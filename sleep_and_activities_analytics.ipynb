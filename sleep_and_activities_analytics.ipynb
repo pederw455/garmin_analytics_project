{
 "cells": [
  {
   "cell_type": "code",
   "execution_count": 1,
   "metadata": {},
   "outputs": [],
   "source": [
    "import seaborn as sns\n",
    "import json\n",
    "from datetime import datetime, timedelta\n",
    "import pandas as pd\n",
    "import matplotlib.pyplot as plt\n",
    "import folium\n",
    "import numpy as np\n",
    "import plotly.express as px \n",
    "sns.set_style(\"darkgrid\")"
   ]
  },
  {
   "attachments": {},
   "cell_type": "markdown",
   "metadata": {},
   "source": [
    "# Sleep Data"
   ]
  },
  {
   "cell_type": "code",
   "execution_count": null,
   "metadata": {},
   "outputs": [],
   "source": [
    "# Load the JSON data from file\n",
    "with open('data/sleep.json', 'r') as f:\n",
    "    data = json.load(f)\n",
    "\n",
    "# Create an empty DataFrame to store the extracted data\n",
    "sleep_df = pd.DataFrame()\n",
    "\n",
    "# Loop over each dictionary in the list\n",
    "for sleep_dict in data:\n",
    "    # Create a pandas Series from the dictionary and add it to the DataFrame\n",
    "    sleep_series = pd.Series(sleep_dict)\n",
    "    sleep_df = sleep_df.append(sleep_series, ignore_index=True)\n",
    "\n",
    "# Print the resulting DataFrame\n",
    "sleep_df=sleep_df.fillna(0)\n",
    "sleep_df['calendarDate'] = pd.to_datetime(sleep_df['calendarDate'])\n",
    "sleep_df['weekday'] = sleep_df['calendarDate'].dt.day_name()\n",
    "def is_weekend(day):\n",
    "    if day in ['Saturday', 'Sunday']:\n",
    "        return 'Weekend'\n",
    "    else:\n",
    "        return 'Regular day'\n",
    "\n",
    "# Apply the function to the day column and create a new column called 'day_type'\n",
    "sleep_df['day_type'] = sleep_df['weekday'].apply(is_weekend)\n",
    "sleep_df"
   ]
  },
  {
   "cell_type": "code",
   "execution_count": null,
   "metadata": {},
   "outputs": [],
   "source": [
    "sleep_df[\"start_date\"] = pd.to_datetime(sleep_df[\"sleepStartTimestampGMT\"])\n",
    "sleep_df[\"end_date\"] = pd.to_datetime(sleep_df[\"sleepEndTimestampGMT\"])\n",
    "sleep_df[\"start_time\"] = sleep_df[\"start_date\"].dt.time\n",
    "sleep_df[\"end_time\"] = sleep_df[\"end_date\"].dt.time\n",
    "sleep_df['duration'] = (sleep_df['end_date'] - sleep_df['start_date']).dt.total_seconds() / 3600\n",
    "\n",
    "df =sleep_df[[\"start_time\",\"end_time\",\"duration\",\"day_type\"]]\n",
    "df[\"Day\"]= df.index\n",
    "today = datetime.now().date()\n",
    "\n",
    "for index, row in df.iterrows():\n",
    "    start_time = row['start_time']\n",
    "    end_time = row['end_time']\n",
    "    if start_time < datetime.strptime('14:00:00', '%H:%M:%S').time():\n",
    "        start_date = today + timedelta(days=1)\n",
    "    else:\n",
    "        start_date = today\n",
    "\n",
    "    if end_time < start_time:\n",
    "        end_date = start_date + timedelta(days=1)\n",
    "    else:\n",
    "        end_date = start_date\n",
    "\n",
    "    start_datetime = datetime.combine(start_date, start_time)\n",
    "    end_datetime = datetime.combine(end_date, end_time)\n",
    "\n",
    "\n",
    "    df.at[index, 'start_time'] = start_datetime\n",
    "    df.at[index, 'end_time'] = end_datetime\n",
    "\n",
    "fig = px.timeline(df, x_start=\"start_time\", x_end=\"end_time\", y=\"Day\", color=\"day_type\", width=800, height=1000)\n",
    "fig.update_yaxes(autorange=\"reversed\") # otherwise tasks are listed from the bottom up\n",
    "fig.show()\n",
    "df_sleep_dur=df.copy()\n"
   ]
  },
  {
   "cell_type": "code",
   "execution_count": null,
   "metadata": {},
   "outputs": [],
   "source": [
    "df_sleep_dur['timestamp_start'] = pd.to_datetime(df_sleep_dur['start_time'], infer_datetime_format=True)\n",
    "df_sleep_dur['timestamp_end'] = pd.to_datetime(df_sleep_dur['end_time'], infer_datetime_format=True)\n",
    "\n",
    "print(f\"Average start sleeping time: {df_sleep_dur['timestamp_start'].mean().time()}\")\n",
    "print(f\"Average wake up time: {df_sleep_dur['timestamp_end'].mean().time()}\")"
   ]
  },
  {
   "cell_type": "code",
   "execution_count": null,
   "metadata": {},
   "outputs": [],
   "source": [
    "sleep_df['week_number'] = sleep_df['calendarDate'].dt.isocalendar().week\n",
    "sleep_df['overallScore'] = sleep_df['sleepScores'].apply(lambda x: x['overallScore'])\n",
    "\n",
    "heat_df = sleep_df[[\"week_number\",\"overallScore\",\"weekday\"]]\n",
    "# Convert the weekday column to a categorical variable with a specific order\n",
    "weekday_order = [\"Monday\", \"Tuesday\", \"Wednesday\", \"Thursday\", \"Friday\", \"Saturday\", \"Sunday\"]\n",
    "heat_df[\"weekday\"] = pd.Categorical(heat_df[\"weekday\"], categories=weekday_order)\n",
    "\n",
    "# Pivot the data to create a 2D matrix with weekday as rows and calendarDate as columns\n",
    "heat_data = heat_df.pivot(\"week_number\", \"weekday\",  \"overallScore\")\n",
    "df_44_to_52 = heat_data.iloc[15:]\n",
    "pivoted_data = pd.concat([df_44_to_52, heat_data.iloc[:15]])\n",
    "# Create the heatmap\n",
    "fig, ax = plt.subplots(figsize=(10, 8))\n",
    "sns.heatmap(pivoted_data, cmap=\"YlGnBu\", annot=True, fmt=\".0f\", cbar=False, ax=ax)\n",
    "\n",
    "# Set the axis labels and title\n",
    "ax.set_ylabel(\"Week nr\")\n",
    "ax.set_xlabel(\"Weekday\")\n",
    "ax.set_title(\"Overall Score Heatmap\")\n",
    "\n",
    "plt.show()"
   ]
  },
  {
   "cell_type": "code",
   "execution_count": null,
   "metadata": {},
   "outputs": [],
   "source": [
    "heat_df = sleep_df[[\"week_number\",\"duration\",\"weekday\"]]\n",
    "# Convert the weekday column to a categorical variable with a specific order\n",
    "weekday_order = [\"Monday\", \"Tuesday\", \"Wednesday\", \"Thursday\", \"Friday\", \"Saturday\", \"Sunday\"]\n",
    "heat_df[\"weekday\"] = pd.Categorical(heat_df[\"weekday\"], categories=weekday_order)\n",
    "\n",
    "# Pivot the data to create a 2D matrix with weekday as rows and calendarDate as columns\n",
    "heat_data = heat_df.pivot(\"week_number\", \"weekday\",  \"duration\")\n",
    "df_44_to_52 = heat_data.iloc[15:]\n",
    "pivoted_data = pd.concat([df_44_to_52, heat_data.iloc[:15]])\n",
    "# Create the heatmap\n",
    "fig, ax = plt.subplots(figsize=(10, 8))\n",
    "sns.heatmap(pivoted_data, cmap=\"YlGnBu\", annot=True, fmt=\".0f\", cbar=False, ax=ax)\n",
    "\n",
    "# Set the axis labels and title\n",
    "ax.set_ylabel(\"Week nr\")\n",
    "ax.set_xlabel(\"Weekday\")\n",
    "ax.set_title(\"Sleeping Duration Heatmap\")\n",
    "\n",
    "plt.show()"
   ]
  },
  {
   "cell_type": "code",
   "execution_count": null,
   "metadata": {},
   "outputs": [],
   "source": [
    "fig, ax1 = plt.subplots(figsize=(10, 6))\n",
    "\n",
    "# Create the first y-axis for overall score\n",
    "color = 'tab:red'\n",
    "ax1.set_xlabel('Date')\n",
    "ax1.set_ylabel('Overall Score', color=color)\n",
    "ax1.plot(sleep_df['calendarDate'], sleep_df['overallScore'], color=color)\n",
    "ax1.tick_params(axis='y', labelcolor=color)\n",
    "\n",
    "# Create the second y-axis for duration\n",
    "ax2 = ax1.twinx()\n",
    "color = 'tab:blue'\n",
    "ax2.set_ylabel('Duration (hours)', color=color)\n",
    "ax2.plot(sleep_df['calendarDate'], sleep_df['duration'], color=color)\n",
    "ax2.tick_params(axis='y', labelcolor=color)\n",
    "\n",
    "# Set the plot title\n",
    "plt.title('Sleep Data')\n",
    "\n",
    "# Show the plot\n",
    "plt.show()"
   ]
  },
  {
   "cell_type": "code",
   "execution_count": null,
   "metadata": {},
   "outputs": [],
   "source": [
    "sleep_df['deepSleepHours'] = sleep_df['deepSleepSeconds'] / 3600\n",
    "sleep_df['lightSleepHours'] = sleep_df['lightSleepSeconds'] / 3600\n",
    "sleep_df['remSleepHours'] = sleep_df['remSleepSeconds'] / 3600\n",
    "sleep_df['awakeSleepHours'] = sleep_df['awakeSleepSeconds'] / 3600\n",
    "sleep_df['totSleepHours'] = sleep_df['deepSleepHours'] + sleep_df['lightSleepHours'] + sleep_df['remSleepHours']\n",
    "sleep_df[['deepSleepHours', 'lightSleepHours', 'remSleepHours', 'awakeSleepHours', \"totSleepHours\"]]"
   ]
  },
  {
   "cell_type": "code",
   "execution_count": null,
   "metadata": {},
   "outputs": [],
   "source": [
    "# Create a line plot of the sleep data\n",
    "fig, ax = plt.subplots(figsize=(10, 6))\n",
    "\n",
    "sleep_df.plot(x='calendarDate', y=['deepSleepHours', 'lightSleepHours', 'remSleepHours', 'awakeSleepHours', \"totSleepHours\"], ax=ax)\n",
    "sns.set_theme()\n",
    "# Set the plot title and axis labels\n",
    "ax.set_title('Sleep Data')\n",
    "ax.set_xlabel('Date')\n",
    "ax.set_ylabel('Hours')\n",
    "\n",
    "# Show the plot\n",
    "plt.show()"
   ]
  },
  {
   "cell_type": "code",
   "execution_count": null,
   "metadata": {},
   "outputs": [],
   "source": [
    "print(f\"Avg light sleep: {round(sleep_df['lightSleepHours'].mean(),2)} hours\")\n",
    "print(f\"Avg deep sleep: {round(sleep_df['deepSleepHours'].mean(),2)} hours\")\n",
    "print(f\"Avg rem sleep: {round(sleep_df['remSleepHours'].mean(),2)} hours\")\n",
    "print(f\"Avg total sleep: {round(sleep_df['totSleepHours'].mean(),2)} hours\")\n",
    "\n",
    "print(f\"Min total sleep: {round(sleep_df['totSleepHours'].min(),2)} hours\")\n",
    "print(f\"Max total sleep: {round(sleep_df['totSleepHours'].max(),2)} hours\")\n",
    "\n"
   ]
  },
  {
   "cell_type": "code",
   "execution_count": null,
   "metadata": {},
   "outputs": [],
   "source": [
    "# Group by weekday and calculate the mean sleep durations\n",
    "sleep_weekday = sleep_df.groupby(sleep_df['weekday']).mean()\n",
    "sleep_weekday"
   ]
  },
  {
   "cell_type": "code",
   "execution_count": null,
   "metadata": {},
   "outputs": [],
   "source": [
    "# Plot a stacked bar chart\n",
    "sleep_weekday[['deepSleepHours', 'lightSleepHours', 'remSleepHours']].plot(kind='bar', stacked=True)\n",
    "sleep_weekday['awakeSleepHours'].plot(kind='bar', color='black', bottom=sleep_weekday[['deepSleepHours', 'lightSleepHours', 'remSleepHours']].sum(axis=1), figsize=(10, 6))\n",
    "\n",
    "# Set the labels and title\n",
    "plt.xticks(range(7), ['Monday', 'Tuesday', 'Wednesday', 'Thursday', 'Friday', 'Saturday', 'Sunday'])\n",
    "plt.xlabel('Weekday')\n",
    "plt.ylabel('Sleep Duration (Hours)')\n",
    "plt.title('Average Sleep Duration by Weekday')\n",
    "\n",
    "# Show the plot\n",
    "plt.show()"
   ]
  },
  {
   "attachments": {},
   "cell_type": "markdown",
   "metadata": {},
   "source": [
    "# Activities Data"
   ]
  },
  {
   "cell_type": "code",
   "execution_count": 13,
   "metadata": {},
   "outputs": [],
   "source": [
    "df_act = pd.read_csv('data/activities.csv')\n",
    "df_act['Activity Type'] = df_act['Activity Type'].str.replace('Resort Skiing/Snowboarding','Resort Skiing')\n",
    "df_act['Start Time'] = pd.to_datetime(df_act['Start Time'], utc=True)\n",
    "df_act['End Time'] = pd.to_datetime(df_act['End Time'], utc=True)\n",
    "df_act['weekday'] = df_act['Start Time'].dt.day_name()\n"
   ]
  },
  {
   "cell_type": "code",
   "execution_count": null,
   "metadata": {},
   "outputs": [],
   "source": [
    "df_act.columns"
   ]
  },
  {
   "cell_type": "code",
   "execution_count": null,
   "metadata": {},
   "outputs": [],
   "source": [
    "df_act[\"weekday\"] = pd.Categorical(df_act[\"weekday\"], categories=\n",
    "    ['Monday','Tuesday','Wednesday','Thursday','Friday','Saturday', 'Sunday'],\n",
    "    ordered=True)\n",
    "\n",
    "weekday_counts = df_act[\"weekday\"].value_counts()\n",
    "weekday_counts = weekday_counts.sort_index()\n",
    "weekday_counts.plot(kind=\"bar\",figsize=(10, 6))\n",
    "plt.title(\"Number of Activities by Weekday\")\n",
    "plt.xlabel(\"Weekday\")\n",
    "plt.ylabel(\"Count\")\n",
    "plt.show()"
   ]
  },
  {
   "cell_type": "code",
   "execution_count": null,
   "metadata": {},
   "outputs": [],
   "source": [
    "df_act_heat = df_act.sort_values(by='Start Time')\n",
    "start_date = df_act_heat[\"Start Time\"].iloc[0]\n",
    "end_date = df_act_heat[\"End Time\"].iloc[-1]\n",
    "df_act_heat[\"date\"] = df_act_heat[\"Start Time\"].dt.date\n",
    "df_act_heat = df_act_heat.set_index(\"date\")\n",
    "\n",
    "date_index = pd.date_range(start=start_date, end=end_date)\n",
    "df_date = pd.DataFrame({'date': date_index})\n",
    "df_date[\"date\"] = df_date[\"date\"]\n",
    "\n",
    "df_date['week_number'] = df_date['date'].dt.isocalendar().week\n",
    "df_date['weekday'] = df_date['date'].dt.day_name()\n",
    "df_date[\"date\"] = df_date[\"date\"].dt.date\n",
    "df_date = df_date.set_index(\"date\")\n",
    "df_act_heat=df_act_heat.drop([\"weekday\"], axis =1 )\n",
    "df_act_heat = df_date.join(df_act_heat)\n",
    "\n",
    "heat_df = df_act_heat[[\"week_number\",\"Max. Heart Rate (bpm)\",\"weekday\"]]\n",
    "# Convert the weekday column to a categorical variable with a specific order\n",
    "weekday_order = [\"Monday\", \"Tuesday\", \"Wednesday\", \"Thursday\", \"Friday\", \"Saturday\", \"Sunday\"]\n",
    "heat_df[\"weekday\"] = pd.Categorical(heat_df[\"weekday\"], categories=weekday_order)\n",
    "heat_df[\"date2\"] = heat_df.index\n",
    "heat_df = heat_df[~heat_df[\"date2\"].duplicated()]\n",
    "heat_df = heat_df.drop([\"date2\"], axis =1)\n",
    "heat_data = heat_df.pivot(\"week_number\", \"weekday\",  \"Max. Heart Rate (bpm)\")\n",
    "df_44_to_52 = heat_data.iloc[15:]\n",
    "pivoted_data = pd.concat([df_44_to_52, heat_data.iloc[:15]])\n",
    "\n",
    "fig, ax = plt.subplots(figsize=(10, 6))\n",
    "sns.heatmap(pivoted_data, cmap=\"YlGnBu\", annot=True, fmt=\".0f\", cbar=False, ax=ax)\n",
    "ax.set_ylabel(\"Week nr\")\n",
    "ax.set_xlabel(\"Weekday\")\n",
    "ax.set_title(\"Max. Heart Rate (bpm)\")\n",
    "\n",
    "plt.show()"
   ]
  },
  {
   "cell_type": "code",
   "execution_count": null,
   "metadata": {},
   "outputs": [],
   "source": [
    "heat_df = df_act_heat[[\"week_number\",\"Calories\",\"weekday\"]]\n",
    "# Convert the weekday column to a categorical variable with a specific order\n",
    "weekday_order = [\"Monday\", \"Tuesday\", \"Wednesday\", \"Thursday\", \"Friday\", \"Saturday\", \"Sunday\"]\n",
    "heat_df[\"weekday\"] = pd.Categorical(heat_df[\"weekday\"], categories=weekday_order)\n",
    "heat_df[\"date2\"] = heat_df.index\n",
    "heat_df = heat_df[~heat_df[\"date2\"].duplicated()]\n",
    "heat_df = heat_df.drop([\"date2\"], axis =1)\n",
    "heat_data = heat_df.pivot(\"week_number\", \"weekday\",  \"Calories\")\n",
    "df_44_to_52 = heat_data.iloc[15:]\n",
    "pivoted_data = pd.concat([df_44_to_52, heat_data.iloc[:15]])\n",
    "\n",
    "fig, ax = plt.subplots(figsize=(10, 6))\n",
    "sns.heatmap(pivoted_data, cmap=\"YlGnBu\", annot=True, fmt=\".0f\", cbar=False, ax=ax)\n",
    "\n",
    "ax.set_ylabel(\"Week nr\")\n",
    "ax.set_xlabel(\"Weekday\")\n",
    "ax.set_title(\"Calories\")\n",
    "\n",
    "plt.show()"
   ]
  },
  {
   "cell_type": "code",
   "execution_count": 18,
   "metadata": {},
   "outputs": [],
   "source": [
    "df_act['Elapsed Duration (h:m:s)'] = pd.to_datetime(df_act[\"Elapsed Duration (h:m:s)\"], format='%H:%M:%S')\n",
    "df_act['MinutesDuration'] = df_act['Elapsed Duration (h:m:s)'].dt.hour*60 + df_act['Elapsed Duration (h:m:s)'].dt.minute"
   ]
  },
  {
   "cell_type": "code",
   "execution_count": null,
   "metadata": {},
   "outputs": [],
   "source": [
    "start=df_act[\"Start Time\"].iloc[0] \n",
    "end = df_act[\"Start Time\"].iloc[-1]\n",
    "total_days = (start - end).days \n",
    "print(total_days)\n",
    "total_weeks= total_days/7\n",
    "print(total_weeks)\n",
    "total_activities = len(df_act)\n",
    "print(total_activities)\n",
    "print(total_activities/total_weeks)"
   ]
  },
  {
   "cell_type": "code",
   "execution_count": null,
   "metadata": {},
   "outputs": [],
   "source": [
    "# get activity counts\n",
    "activities = df_act[\"Activity Type\"].value_counts()\n",
    "\n",
    "# set color palette\n",
    "colors = ['#5DA5DA', '#FAA43A', '#60BD68', '#F17CB0', '#B2912F', '#B276B2', '#DECF3F', '#F15854']\n",
    "sns.set_palette(sns.color_palette(colors))\n",
    "\n",
    "# plot pie chart\n",
    "plt.figure(figsize=(8, 8))\n",
    "plt.pie(activities.values, labels=activities.index, autopct='%1.1f%%',textprops={'fontsize': 10})\n",
    "plt.title('Activity Types')\n",
    "\n",
    "plt.show()"
   ]
  },
  {
   "cell_type": "code",
   "execution_count": null,
   "metadata": {},
   "outputs": [],
   "source": [
    "df_act_time = df_act.groupby(\"Activity Type\")[\"MinutesDuration\"].sum()\n",
    "plt.bar(df_act_time.index, df_act_time.values)\n",
    "plt.xlabel('Activity Type')\n",
    "plt.ylabel('Total Duration (Minutes)')\n",
    "plt.title('Total Duration of Each Activity')\n",
    "plt.xticks(rotation=90)\n",
    "plt.show()"
   ]
  },
  {
   "cell_type": "code",
   "execution_count": null,
   "metadata": {},
   "outputs": [],
   "source": [
    "# Create subplots with more spacing\n",
    "fig, (ax1, ax2) = plt.subplots(ncols=2, figsize=(10,5))\n",
    "plt.subplots_adjust(wspace=0.5)\n",
    "\n",
    "# First subplot\n",
    "sns.barplot(x=\"Activity Type\", y=\"MinutesDuration\", data=df_act, estimator=np.mean, ax=ax1)\n",
    "ax1.set_xlabel('Activity Type')\n",
    "ax1.set_ylabel('Average Duration (Minutes)')\n",
    "ax1.set_title('Average Duration (Minutes) of Each Activity')\n",
    "ax1.set_xticklabels(labels=ax1.get_xticklabels(), rotation=90)\n",
    "\n",
    "# Second subplot\n",
    "sns.barplot(x=\"Activity Type\", y=\"MinutesDuration\", data=df_act, estimator=np.sum, ax=ax2)\n",
    "ax2.set_xlabel('Activity Type')\n",
    "ax2.set_ylabel('Total Duration (Minutes)')\n",
    "ax2.set_title('Total Duration (Minutes) of Each Activity')\n",
    "ax2.set_xticklabels(labels=ax2.get_xticklabels(), rotation=90)\n",
    "\n",
    "# Display the plot\n",
    "plt.tight_layout()\n",
    "plt.show()\n"
   ]
  },
  {
   "cell_type": "code",
   "execution_count": null,
   "metadata": {},
   "outputs": [],
   "source": [
    "# Create subplots with more spacing\n",
    "fig, (ax1, ax2) = plt.subplots(ncols=2, figsize=(10,5))\n",
    "plt.subplots_adjust(wspace=0.5)\n",
    "\n",
    "# First subplot\n",
    "sns.barplot(x=\"Activity Type\", y=\"Distance (km)\", data=df_act, estimator=np.mean, ax=ax1)\n",
    "ax1.set_xlabel('Activity Type')\n",
    "ax1.set_ylabel('Average Distance (km)')\n",
    "ax1.set_title('Average Distance (km) of Each Activity')\n",
    "ax1.set_xticklabels(labels=ax1.get_xticklabels(), rotation=90)\n",
    "\n",
    "# Second subplot\n",
    "sns.barplot(x=\"Activity Type\", y=\"Distance (km)\", data=df_act, estimator=np.sum, ax=ax2)\n",
    "ax2.set_xlabel('Activity Type')\n",
    "ax2.set_ylabel('Total Distance (km)')\n",
    "ax2.set_title('Total Distance (km) of Each Activity')\n",
    "ax2.set_xticklabels(labels=ax2.get_xticklabels(), rotation=90)\n",
    "\n",
    "# Display the plot\n",
    "plt.tight_layout()\n",
    "plt.show()\n",
    "\n"
   ]
  },
  {
   "cell_type": "code",
   "execution_count": null,
   "metadata": {},
   "outputs": [],
   "source": [
    "df_bcs = df_act[(df_act[\"Activity Type\"] == \"Backcountry Skiing\") | (df_act[\"Activity Type\"] == \"Resort Skiing\")]\n",
    "\n",
    "sns.scatterplot(data=df_bcs, x=\"Distance (km)\", y=\"MinutesDuration\", hue=\"Activity Type\")\n",
    "plt.title(\"Scatter Plot of Duration vs Distance\")\n",
    "plt.show()"
   ]
  },
  {
   "cell_type": "code",
   "execution_count": null,
   "metadata": {},
   "outputs": [],
   "source": [
    "sns.scatterplot(data=df_act[(df_act[\"Activity Type\"] == \"Backcountry Skiing\")], x=\"Distance (km)\", y=\"Elevation Gain (m)\")\n",
    "plt.show()"
   ]
  },
  {
   "cell_type": "code",
   "execution_count": null,
   "metadata": {},
   "outputs": [],
   "source": [
    "df_bcs = df_bcs.dropna(subset=['Elevation Gain (m)']) # Remove rows with NaN in 'Elevation Gain (m)' column\n",
    "\n",
    "ax = sns.barplot(x=df_bcs.index, y='Elevation Gain (m)', hue='Location Name', data=df_bcs)\n",
    "ax.set_title(\"Elevation Gain by Location for Backcountry Skiing Activities\")\n",
    "ax.legend(loc='center left', bbox_to_anchor=(1, 0.5)) # Move legend outside plot\n",
    "\n",
    "plt.show()"
   ]
  },
  {
   "cell_type": "code",
   "execution_count": null,
   "metadata": {},
   "outputs": [],
   "source": [
    "# create figure and subplots\n",
    "fig, axs = plt.subplots(1, 2, figsize=(12, 6))\n",
    "#ax1 = sns.scatterplot(data=df_act, y=\"Average Heart Rate (bpm)\", x=\"MinutesDuration\", hue=\"Activity Type\")\n",
    "# plot first scatterplot on first subplot\n",
    "sns.scatterplot(data=df_act, y=\"Average Heart Rate (bpm)\", x=\"MinutesDuration\", hue=\"Activity Type\", ax=axs[0], legend=False)\n",
    "axs[0].set_title(\"Average Heart Rate vs. Duration\")\n",
    "\n",
    "# plot second scatterplot on second subplot\n",
    "sns.scatterplot(data=df_act, y=\"Max. Heart Rate (bpm)\", x=\"MinutesDuration\", hue=\"Activity Type\", ax=axs[1], legend=False)\n",
    "axs[1].set_title(\"Max. Heart Rate vs. Duration\")\n",
    "\n",
    "# add common legend below subplots\n",
    "handles, labels = ax1.get_legend_handles_labels()\n",
    "fig.legend(handles, labels, loc='lower center', ncol=4)\n",
    "fig.subplots_adjust(bottom=0.25)\n",
    "plt.show()\n",
    "\n"
   ]
  },
  {
   "cell_type": "code",
   "execution_count": null,
   "metadata": {},
   "outputs": [],
   "source": [
    "import matplotlib.pyplot as plt\n",
    "import seaborn as sns\n",
    "\n",
    "# create figure and subplots\n",
    "fig, axs = plt.subplots(1, 2, figsize=(12, 6))\n",
    "\n",
    "# plot first boxplot on first subplot\n",
    "sns.boxplot(data=df_act, x='Activity Type', y='Calories', ax=axs[0])\n",
    "axs[0].set_title('Calories by Activity Type')\n",
    "axs[0].set_xlabel('Activity Type')\n",
    "axs[0].set_ylabel('Calories')\n",
    "axs[0].tick_params(axis='x', rotation=90)\n",
    "\n",
    "# plot second scatterplot on second subplot\n",
    "sns.scatterplot(data=df_act, x=\"Calories\", y=\"MinutesDuration\", hue=\"Activity Type\", ax=axs[1])\n",
    "axs[1].set_title(\"Training duration vs Calories\")\n",
    "axs[1].set_xlabel('Calories')\n",
    "axs[1].set_ylabel('Duration')\n",
    "axs[1].legend(loc='upper right')\n",
    "\n",
    "plt.show()\n"
   ]
  },
  {
   "cell_type": "code",
   "execution_count": null,
   "metadata": {},
   "outputs": [],
   "source": [
    "df_act[\"start_hour\"] = df_act[\"Start Time\"].dt.time\n",
    "df_act['hour'] = df_act['Start Time'].dt.hour\n",
    "df =df_act[[\"hour\",\"Activity Type\"]]\n",
    "\n",
    "df.groupby(['hour', 'Activity Type']).size().unstack().plot(kind='bar', stacked=True)\n",
    "plt.xlabel('Hour of Day')\n",
    "plt.ylabel('Number of Activities')\n",
    "plt.title('Activity Types by Hour of Day')\n",
    "plt.legend(title='Activity Type', loc='upper left')\n",
    "plt.figure(figsize=(50, 5))\n",
    "plt.show()\n"
   ]
  },
  {
   "cell_type": "code",
   "execution_count": null,
   "metadata": {},
   "outputs": [],
   "source": [
    "# Load JSON data into a Pandas DataFrame\n",
    "df = pd.read_json(\"data/training_load.json\")\n",
    "\n",
    "# Convert timestamp column to datetime\n",
    "# Convert timestamp column to datetime and set as index\n",
    "df['timestamp'] = pd.to_datetime(df['timestamp'], unit='ms')\n",
    "\n",
    "\n",
    "# Print DataFrame\n",
    "df.plot(x='timestamp', y=['dailyTrainingLoadAcute'],figsize=(12,4))\n",
    "plt.xlabel('Date')\n",
    "plt.ylabel('Training load')\n",
    "plt.title('Acute training load timeline')\n",
    "plt.show()\n",
    "\n"
   ]
  },
  {
   "cell_type": "code",
   "execution_count": null,
   "metadata": {},
   "outputs": [],
   "source": [
    "df_map = df_act.dropna(subset=['Begin Longitude (°DD)'])\n",
    "# Create map object\n",
    "m = folium.Map(location=[0, 0], zoom_start=2)\n",
    "\n",
    "# Add markers for each row in the dataframe\n",
    "for index, row in df_map.iterrows():\n",
    "    folium.Marker(location=[row['Begin Latitude (°DD)'], row['Begin Longitude (°DD)']]).add_to(m)\n",
    "\n",
    "# Display map\n",
    "m"
   ]
  }
 ],
 "metadata": {
  "kernelspec": {
   "display_name": "Python 3",
   "language": "python",
   "name": "python3"
  },
  "language_info": {
   "codemirror_mode": {
    "name": "ipython",
    "version": 3
   },
   "file_extension": ".py",
   "mimetype": "text/x-python",
   "name": "python",
   "nbconvert_exporter": "python",
   "pygments_lexer": "ipython3",
   "version": "3.8.10"
  },
  "orig_nbformat": 4
 },
 "nbformat": 4,
 "nbformat_minor": 2
}
