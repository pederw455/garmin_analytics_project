{
 "cells": [
  {
   "cell_type": "code",
   "execution_count": 1,
   "metadata": {},
   "outputs": [],
   "source": [
    "#pip install gpxpy"
   ]
  },
  {
   "cell_type": "code",
   "execution_count": 2,
   "metadata": {},
   "outputs": [],
   "source": [
    "import gpxpy\n",
    "import gpxpy.gpx\n",
    "import datetime\n",
    "import pandas as pd\n",
    "import matplotlib.pyplot as plt\n",
    "import seaborn as sns\n",
    "import folium"
   ]
  },
  {
   "cell_type": "code",
   "execution_count": null,
   "metadata": {},
   "outputs": [],
   "source": [
    "df_act=pd.read_csv(\"bcs.csv\")\n",
    "df_act= df_act[df_act[\"Activity Type\"] == \"Backcountry Skiing\"]\n",
    "df_act"
   ]
  },
  {
   "cell_type": "code",
   "execution_count": null,
   "metadata": {},
   "outputs": [],
   "source": [
    "act_list = df_act[\"Activity ID\"]\n",
    "df_list=[]\n",
    "for act in act_list:\n",
    "    gpx_name = \"act_data/activity_\" + str(act) + \".gpx\"\n",
    "    with open(gpx_name, 'r') as gpx_file:\n",
    "        gpx = gpxpy.parse(gpx_file)\n",
    "\n",
    "    route_info = []\n",
    "\n",
    "    for track in gpx.tracks:\n",
    "        for segment in track.segments:\n",
    "            for point in segment.points:\n",
    "                route_info.append({\n",
    "                    'latitude': point.latitude,\n",
    "                    'longitude': point.longitude,\n",
    "                    'elevation': point.elevation,\n",
    "                    'time':point.time\n",
    "                })\n",
    "    df = pd.DataFrame(route_info)\n",
    "    df['time'] = pd.to_datetime(df['time'])\n",
    "    df['time'] = df['time'].dt.tz_localize(None)\n",
    "    df.set_index('time', inplace=True)\n",
    "    def seconds_to_hm(seconds):\n",
    "        return str(datetime.timedelta(seconds=seconds))\n",
    "    # calculate the time difference in seconds\n",
    "    df['training_time'] = (df.index - df.index[0]).total_seconds()\n",
    "    # set the first value to zero\n",
    "    df['training_time'] = df['training_time'] - df['training_time'].iloc[0]\n",
    "    df['tt_h'] = df['training_time'].apply(seconds_to_hm)\n",
    "    df.set_index('tt_h', inplace=True)\n",
    "    df= df[[\"elevation\"]]\n",
    "    df.columns=[str(act)]\n",
    "    df_list.append(df)\n",
    "df_concat = pd.concat(df_list,axis =1)\n",
    "df_concat = df_concat.sort_index()\n",
    "df_concat = df_concat.fillna(method=\"bfill\")\n",
    "df_concat"
   ]
  },
  {
   "cell_type": "code",
   "execution_count": null,
   "metadata": {},
   "outputs": [],
   "source": [
    "# Set the style\n",
    "sns.set_style('darkgrid')\n",
    "\n",
    "# Plot the data\n",
    "fig, ax = plt.subplots(figsize=(16, 10))\n",
    "df_concat.plot(ax=ax)\n",
    "ax.set_xlabel('Time')\n",
    "ax.set_ylabel('Elevation')\n",
    "ax.set_title('Elevation over Time')\n",
    "\n",
    "plt.show()"
   ]
  },
  {
   "cell_type": "code",
   "execution_count": 6,
   "metadata": {},
   "outputs": [],
   "source": [
    "df_act= df_act[df_act[\"Location Name\"] == \"Klæbu\"]\n",
    "act_list = df_act[\"Activity ID\"]\n",
    "df_list=[]\n",
    "for act in act_list:\n",
    "    gpx_name = \"act_data/activity_\" + str(act) + \".gpx\"\n",
    "    with open(gpx_name, 'r') as gpx_file:\n",
    "        gpx = gpxpy.parse(gpx_file)\n",
    "    route_info = []\n",
    "    for track in gpx.tracks:\n",
    "            for segment in track.segments:\n",
    "                for point in segment.points:\n",
    "                    route_info.append({\n",
    "                        'latitude': point.latitude,\n",
    "                        'longitude': point.longitude,\n",
    "                        'elevation': point.elevation,\n",
    "                        'time':point.time\n",
    "                    })\n",
    "    route_df = pd.DataFrame(route_info)\n",
    "    df_list.append(route_df)"
   ]
  },
  {
   "cell_type": "code",
   "execution_count": null,
   "metadata": {},
   "outputs": [],
   "source": [
    "colors = ['red','blue','green','purple','orange','darkred','pink']\n",
    "fg = folium.FeatureGroup(name='lines')\n",
    "map = folium.Map(location=[63.2634, 10.40], zoom_start=15)\n",
    "# create polyline for each row in dataframe\n",
    "for c, route_df in enumerate(df_list):\n",
    "    cord_list=[]\n",
    "    for i, row in route_df.iterrows():\n",
    "        coords = [row['latitude'], row['longitude']]\n",
    "        cord_list.append(coords)\n",
    "    \n",
    "    my_PolyLine=folium.PolyLine(locations=cord_list,color=colors[c], weight=5, opacity=0.5)\n",
    "    map.add_child(my_PolyLine)\n",
    "map\n"
   ]
  }
 ],
 "metadata": {
  "kernelspec": {
   "display_name": "Python 3",
   "language": "python",
   "name": "python3"
  },
  "language_info": {
   "codemirror_mode": {
    "name": "ipython",
    "version": 3
   },
   "file_extension": ".py",
   "mimetype": "text/x-python",
   "name": "python",
   "nbconvert_exporter": "python",
   "pygments_lexer": "ipython3",
   "version": "3.8.10"
  },
  "orig_nbformat": 4
 },
 "nbformat": 4,
 "nbformat_minor": 2
}
